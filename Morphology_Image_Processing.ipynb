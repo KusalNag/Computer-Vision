{
  "nbformat": 4,
  "nbformat_minor": 0,
  "metadata": {
    "colab": {
      "name": "Morphology Image Processing.ipynb",
      "provenance": [],
      "collapsed_sections": []
    },
    "kernelspec": {
      "name": "python3",
      "display_name": "Python 3"
    },
    "language_info": {
      "name": "python"
    }
  },
  "cells": [
    {
      "cell_type": "code",
      "metadata": {
        "id": "_2M5nZ9e5zfC",
        "colab": {
          "base_uri": "https://localhost:8080/",
          "height": 1000
        },
        "outputId": "2d4c7462-266b-45aa-9725-d299686f2711"
      },
      "source": [
        "\"\"\"\n",
        "\n",
        "(i) implement four commonly used morphology operations: erosion, dilation, open and close. \n",
        "    The stucturing element (SE) should be a 3x3 square of all 1's for all the operations.\n",
        "(ii) remove noises in task3.png using proper combination of the above morphology operations. \n",
        "(iii) extract the boundaries of the objects in denoised binary image \n",
        "      using proper combination of the above morphology operations. \n",
        "\n",
        "\n",
        "\"\"\"\n",
        "from google.colab.patches import cv2_imshow\n",
        "from cv2 import imread, imwrite, imshow, IMREAD_GRAYSCALE, namedWindow, waitKey, destroyAllWindows\n",
        "import numpy as np\n",
        "kernel = np.full(shape=(3, 3), fill_value=1)\n",
        "def morph_erode(img):\n",
        "    \"\"\"\n",
        "    :param img: numpy.ndarray(int or bool), image\n",
        "    :return erode_img: numpy.ndarray(int or bool), image, same size as the input image\n",
        "\n",
        "    Apply mophology erosion on input binary image. \n",
        "    Use 3x3 squared structuring element of all 1's. \n",
        "    \"\"\"\n",
        "    img_1=img/255\n",
        "    padded_img = np.pad(img_1, (1,1), 'constant')\n",
        "    sub_array=[]\n",
        "    for i in range(padded_img.shape[0] - 2) :\n",
        "      for j in range(padded_img.shape[1] - 2):\n",
        "          sub_array.append(padded_img[i:i+3, j:j+3])\n",
        "              \n",
        "    erode_img=[]\n",
        "    for i in sub_array:\n",
        "      if i.all()==kernel.all():\n",
        "        erode_img.append(255)\n",
        "      else:\n",
        "        erode_img.append(0)\n",
        "    \n",
        "    erode_img = np.array(erode_img).reshape(img.shape)\n",
        "    # cv2_imshow(img)\n",
        "    # cv2_imshow(erode_img)\n",
        "    # TO DO: implement your solution here\n",
        "    # raise NotImplementedError\n",
        "    return erode_img\n",
        "\n",
        "\n",
        "def morph_dilate(img):\n",
        "    \"\"\"\n",
        "    :param img: numpy.ndarray(int or bool), image\n",
        "    :return dilate_img: numpy.ndarray(int or bool), image, same size as the input image\n",
        "\n",
        "    Apply mophology dilation on input binary image. \n",
        "    Use 3x3 squared structuring element of all 1's. \n",
        "    \"\"\"\n",
        "    img_1=img/255\n",
        "    padded_img = np.pad(img_1, (1,1), 'constant')\n",
        "    sub_array=[]\n",
        "    for i in range(padded_img.shape[0] - 2) :\n",
        "      for j in range(padded_img.shape[1] - 2):\n",
        "          sub_array.append(padded_img[i:i+3, j:j+3])\n",
        "              \n",
        "    dilate_img=[]\n",
        "    for i in sub_array:\n",
        "      if i.any()==kernel.any():\n",
        "        dilate_img.append(255)\n",
        "      else:\n",
        "        dilate_img.append(0)\n",
        "    \n",
        "    dilate_img = np.array(dilate_img).reshape(img.shape)\n",
        "    # TO DO: implement your solution here\n",
        "    # raise NotImplementedError\n",
        "    return dilate_img\n",
        "\n",
        "\n",
        "def morph_open(img):\n",
        "    \"\"\"\n",
        "    :param img: numpy.ndarray(int or bool), image\n",
        "    :return open_img: numpy.ndarray(int or bool), image, same size as the input image\n",
        "\n",
        "    Apply mophology opening on input binary image. \n",
        "    Use 3x3 squared structuring element of all 1's. \n",
        "    You can use the combination of above morph_erode/dilate functions for this. \n",
        "    \"\"\"\n",
        "    eroded_img=morph_erode(img)\n",
        "    open_img=morph_dilate(eroded_img)\n",
        "    # TO DO: implement your solution here\n",
        "    # raise NotImplementedError\n",
        "    return open_img\n",
        "\n",
        "\n",
        "def morph_close(img):\n",
        "    \"\"\"\n",
        "    :param img: numpy.ndarray(int or bool), image\n",
        "    :return close_img: numpy.ndarray(int or bool), image, same size as the input image\n",
        "\n",
        "    Apply mophology closing on input binary image. \n",
        "    Use 3x3 squared structuring element of all 1's. \n",
        "    You can use the combination of above morph_erode/dilate functions for this. \n",
        "    \"\"\"\n",
        "    dilated_img=morph_dilate(img)\n",
        "    close_img=morph_erode(dilated_img)\n",
        "    \n",
        "    # TO DO: implement your solution here\n",
        "    # raise NotImplementedError\n",
        "    return close_img\n",
        "\n",
        "\n",
        "def denoise(img):\n",
        "    \"\"\"\n",
        "    :param img: numpy.ndarray(int), image\n",
        "    :return denoise_img: numpy.ndarray(int), image, same size as the input image\n",
        "\n",
        "    Remove noises from binary image using morphology operations. \n",
        "    If you convert the dtype of input binary image from int to bool,\n",
        "    make sure to convert the dtype of returned image back to int.\n",
        "    \"\"\"\n",
        "    print(\"Noisy Image\")\n",
        "    cv2_imshow(img)\n",
        "    closed_img=morph_close(img)\n",
        "    denoise_img=morph_open(closed_img)\n",
        "    print(\"Denoised image\")\n",
        "    cv2_imshow(denoise_img)\n",
        "    # TO DO: implement your solution here\n",
        "    # raise NotImplementedError\n",
        "    return denoise_img\n",
        "\n",
        "\n",
        "def boundary(img):\n",
        "    \"\"\"\n",
        "    :param img: numpy.ndarray(int), image\n",
        "    :return denoise_img: numpy.ndarray(int), image, same size as the input image\n",
        "\n",
        "    Extract boundaries from binary image using morphology operations. \n",
        "    If you convert the dtype of input binary image from int to bool,\n",
        "    make sure to convert the dtype of returned image back to int.\n",
        "    \"\"\"\n",
        "    bound_img=img-morph_erode(img)\n",
        "    print(\"Boundary of the image\")\n",
        "    cv2_imshow(bound_img)\n",
        "    # TO DO: implement your solution here\n",
        "    # raise NotImplementedError\n",
        "    return bound_img\n",
        "\n",
        "\n",
        "if __name__ == \"__main__\":\n",
        "    img = imread('task3.png', IMREAD_GRAYSCALE)\n",
        "    denoise_img = denoise(img)\n",
        "    imwrite('results/task3_denoise.jpg', denoise_img)\n",
        "    bound_img = boundary(denoise_img)\n",
        "    imwrite('results/task3_boundary.jpg', bound_img)\n",
        "\n",
        "\n",
        "\n",
        "\n",
        "\n"
      ],
      "execution_count": 3,
      "outputs": [
        {
          "output_type": "stream",
          "name": "stdout",
          "text": [
            "Noisy Image\n"
          ]
        },
        {
          "output_type": "display_data",
          "data": {
            "image/png": "[encoded data removed]",
            "text/plain": [
              "<PIL.Image.Image image mode=L size=500x500 at 0x7F6A7B4A1350>"
            ]
          },
          "metadata": {}
        },
        {
          "output_type": "stream",
          "name": "stdout",
          "text": [
            "Denoised image\n"
          ]
        },
        {
          "output_type": "display_data",
          "data": {
            "image/png": "[encoded data removed]",
            "text/plain": [
              "<PIL.Image.Image image mode=L size=500x500 at 0x7F6A7A0B26D0>"
            ]
          },
          "metadata": {}
        },
        {
          "output_type": "stream",
          "name": "stdout",
          "text": [
            "Boundary of the image\n"
          ]
        },
        {
          "output_type": "display_data",
          "data": {
            "image/png": "[encoded data removed]",
            "text/plain": [
              "<PIL.Image.Image image mode=L size=500x500 at 0x7F6A7A0B26D0>"
            ]
          },
          "metadata": {}
        }
      ]
    },
    {
      "cell_type": "code",
      "metadata": {
        "id": "kCTXs1ikD8VM"
      },
      "source": [
        ""
      ],
      "execution_count": null,
      "outputs": []
    }
  ]
}